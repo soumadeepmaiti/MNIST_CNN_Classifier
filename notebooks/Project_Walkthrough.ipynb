# MNIST CNN Classifier Project Walkthrough

## 1. Introduction
This project involves building a Convolutional Neural Network (CNN) using PyTorch to classify handwritten digits from the MNIST dataset. The project includes data exploration, model prototyping, training, evaluation, and visualization of results.

## 2. Exploratory Data Analysis
We begin by exploring the MNIST dataset to understand its structure and distribution. Key tasks include visualizing sample images and analyzing the distribution of digit classes.

```python
# Insert relevant code from EDA_MNIST.ipynb

